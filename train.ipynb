{
 "cells": [
  {
   "cell_type": "code",
   "execution_count": 1,
   "metadata": {},
   "outputs": [],
   "source": [
    "import torch\n",
    "from torch import nn\n",
    "from torch.optim import Adam\n",
    "from torch.utils.data import DataLoader, Dataset\n",
    "import pandas as pd\n",
    "from torchvision import transforms\n",
    "from PIL import Image\n",
    "import os"
   ]
  },
  {
   "cell_type": "code",
   "execution_count": 2,
   "metadata": {
    "executionInfo": {
     "elapsed": 862,
     "status": "ok",
     "timestamp": 1728987487146,
     "user": {
      "displayName": "小林和史",
      "userId": "11119335308536847369"
     },
     "user_tz": -540
    },
    "id": "jfQUnO-Hp1qF"
   },
   "outputs": [],
   "source": [
    "training_dataset_dir = \"/content/drive/MyDrive/richhf/train\" if os.path.exists(\"/content/drive/MyDrive/richhf/train\") else \"./train\"\n",
    "train_data_csv = \"/content/drive/MyDrive/richhf/RichHF_18K.csv\" if os.path.exists(\"/content/drive/MyDrive/richhf\") else \"./RichHF_18K.csv\"\n",
    "model_output_name =  \"/content/drive/MyDrive/meta_iqa_model.pth\" if os.path.exists(\"/content/drive/MyDrive\") else \"./meta_iqa_model.pth\"\n"
   ]
  },
  {
   "cell_type": "code",
   "execution_count": 3,
   "metadata": {},
   "outputs": [],
   "source": [
    "class MetaIQAFeatureExtractor(nn.Module):\n",
    "    def __init__(self, input_size=3*512*512, hidden_size=1024, output_size=512):\n",
    "        super(MetaIQAFeatureExtractor, self).__init__()\n",
    "        self.input_size = input_size\n",
    "\n",
    "        # First layer\n",
    "        self.fc1 = nn.Linear(input_size, hidden_size)\n",
    "        self.bn1 = nn.BatchNorm1d(hidden_size)  # Batch Normalization\n",
    "        self.relu1 = nn.SiLU()  # Swish Activation\n",
    "        self.dropout1 = nn.Dropout(0.3)\n",
    "\n",
    "        # Second layer with residual connection\n",
    "        self.fc2 = nn.Linear(hidden_size, output_size)\n",
    "        self.residual_connection = nn.Linear(hidden_size, output_size)  # Adjust dimensions for residual connection\n",
    "        self.bn2 = nn.BatchNorm1d(output_size)  # Batch Normalization\n",
    "        self.relu2 = nn.SiLU()\n",
    "        self.dropout2 = nn.Dropout(0.3)\n",
    "\n",
    "        # Output layer\n",
    "        self.fc3 = nn.Linear(output_size, 1)\n",
    "\n",
    "    def forward(self, x):\n",
    "        x = x.view(x.size(0), -1)  # Flatten input if necessary\n",
    "\n",
    "        # First layer\n",
    "        out = self.fc1(x)\n",
    "        out = self.bn1(out)\n",
    "        out = self.relu1(out)\n",
    "        out = self.dropout1(out)\n",
    "\n",
    "        # Second layer with residual connection\n",
    "        residual = self.residual_connection(out)  # Align dimensions for residual connection\n",
    "        out = self.fc2(out)\n",
    "        out = self.bn2(out)\n",
    "        out = self.relu2(out)\n",
    "        out = self.dropout2(out)\n",
    "        out += residual  # Add residual connection\n",
    "\n",
    "        # Output layer\n",
    "        out = self.fc3(out)\n",
    "        return out"
   ]
  },
  {
   "cell_type": "code",
   "execution_count": 4,
   "metadata": {},
   "outputs": [],
   "source": [
    "class IQADataset(Dataset):\n",
    "    def __init__(self, csv_file, root_dir, transform=None):\n",
    "        self.data_frame = pd.read_csv(csv_file)\n",
    "        self.root_dir = root_dir\n",
    "        self.transform = transform\n",
    "\n",
    "    def __len__(self):\n",
    "        return len(self.data_frame)\n",
    "\n",
    "    def __getitem__(self, idx):\n",
    "        # Get image name and quality score from the dataframe\n",
    "        img_name = self.data_frame.iloc[idx, 0]\n",
    "        quality_score = self.data_frame.iloc[idx, 5]\n",
    "\n",
    "        img_path = f\"{self.root_dir}/{img_name}.png\"\n",
    "\n",
    "        # Check if the image exists only when loading it\n",
    "        if not os.path.exists(img_path):\n",
    "            raise FileNotFoundError(f\"Image {img_path} not found\")\n",
    "\n",
    "        # Load the image lazily\n",
    "        image = Image.open(img_path).convert('RGB')\n",
    "\n",
    "        # Apply transform if necessary\n",
    "        if self.transform:\n",
    "            image = self.transform(image)\n",
    "\n",
    "        return image, torch.tensor(quality_score, dtype=torch.float)\n"
   ]
  },
  {
   "cell_type": "code",
   "execution_count": 5,
   "metadata": {
    "id": "V7oFrs0dpmcE"
   },
   "outputs": [],
   "source": [
    "def train_meta_iqa(model, train_loader, optimizer, criterion, device, epochs=10):\n",
    "    model.train()\n",
    "    for epoch in range(epochs):\n",
    "        running_loss = 0.0\n",
    "        for images, quality_scores in train_loader:\n",
    "            images, quality_scores = images.to(device), quality_scores.to(device)\n",
    "\n",
    "            optimizer.zero_grad()\n",
    "            outputs = model(images)\n",
    "            loss = criterion(outputs, quality_scores.unsqueeze(1))  # Ensure dimensions match\n",
    "            loss.backward()\n",
    "            optimizer.step()\n",
    "\n",
    "            running_loss += loss.item() * images.size(0)\n",
    "\n",
    "        epoch_loss = running_loss / len(train_loader.dataset)\n",
    "        print(f\"Epoch [{epoch+1}/{epochs}], Loss: {epoch_loss:.4f}\")\n"
   ]
  },
  {
   "cell_type": "code",
   "execution_count": null,
   "metadata": {},
   "outputs": [
    {
     "name": "stdout",
     "output_type": "stream",
     "text": [
      "Epoch [1/10], Loss: 0.0685\n",
      "Epoch [2/10], Loss: 0.0204\n",
      "Epoch [3/10], Loss: 0.0114\n"
     ]
    }
   ],
   "source": [
    "if __name__ == \"__main__\":\n",
    "    # Hyperparameters and configuration\n",
    "    input_size = 3*512*512\n",
    "    hidden_size = 1024\n",
    "    output_size = 512\n",
    "    epochs = 10\n",
    "    batch_size = 32\n",
    "    learning_rate = 1e-4\n",
    "\n",
    "    # Prepare the dataset and dataloader\n",
    "    transform = transforms.Compose([transforms.Resize((512, 512)), transforms.ToTensor()])\n",
    "\n",
    "    dataset = IQADataset(csv_file=train_data_csv, root_dir=training_dataset_dir, transform=transform)\n",
    "    train_loader = DataLoader(dataset, batch_size=batch_size, shuffle=True)\n",
    "\n",
    "    # Initialize the model, optimizer, and loss function\n",
    "    device = torch.device(\"cuda\" if torch.cuda.is_available() else \"cpu\")\n",
    "    model = MetaIQAFeatureExtractor(input_size=input_size, hidden_size=hidden_size, output_size=output_size).to(device)\n",
    "    optimizer = Adam(model.parameters(), lr=learning_rate)\n",
    "    criterion = nn.MSELoss()  # Mean Squared Error Loss\n",
    "\n",
    "    # Train the model\n",
    "    train_meta_iqa(model, train_loader, optimizer, criterion, device, epochs)\n",
    "\n",
    "    # Save the trained model\n",
    "    \n",
    "    torch.save(model.state_dict(), model_output_name)\n",
    "    print(\"Training complete and model saved!\")"
   ]
  }
 ],
 "metadata": {
  "colab": {
   "authorship_tag": "ABX9TyOCYtOauQA7j9QbzNzCKRql",
   "provenance": []
  },
  "kernelspec": {
   "display_name": "IQA_evaluation",
   "language": "python",
   "name": "python3"
  },
  "language_info": {
   "codemirror_mode": {
    "name": "ipython",
    "version": 3
   },
   "file_extension": ".py",
   "mimetype": "text/x-python",
   "name": "python",
   "nbconvert_exporter": "python",
   "pygments_lexer": "ipython3",
   "version": "3.11.11"
  }
 },
 "nbformat": 4,
 "nbformat_minor": 0
}
