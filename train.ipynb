{
 "cells": [
  {
   "cell_type": "code",
   "execution_count": 1,
   "metadata": {
    "colab": {
     "base_uri": "https://localhost:8080/"
    },
    "executionInfo": {
     "elapsed": 1962,
     "status": "ok",
     "timestamp": 1728987484380,
     "user": {
      "displayName": "小林和史",
      "userId": "11119335308536847369"
     },
     "user_tz": -540
    },
    "id": "YmDDoqTPpn4r",
    "outputId": "fdf1cf55-53e1-4d1c-8e56-3e54f14ba329"
   },
   "outputs": [
    {
     "name": "stdout",
     "output_type": "stream",
     "text": [
      "Drive already mounted at /content/drive; to attempt to forcibly remount, call drive.mount(\"/content/drive\", force_remount=True).\n"
     ]
    }
   ],
   "source": [
    "from google.colab import drive\n",
    "drive.mount('/content/drive')"
   ]
  },
  {
   "cell_type": "code",
   "execution_count": 1,
   "metadata": {},
   "outputs": [],
   "source": [
    "import torch\n",
    "from torch import nn\n",
    "from torch.optim import Adam\n",
    "from torch.utils.data import DataLoader, Dataset\n",
    "import pandas as pd\n",
    "from torchvision import transforms\n",
    "from PIL import Image\n",
    "import os"
   ]
  },
  {
   "cell_type": "code",
   "execution_count": 7,
   "metadata": {
    "executionInfo": {
     "elapsed": 862,
     "status": "ok",
     "timestamp": 1728987487146,
     "user": {
      "displayName": "小林和史",
      "userId": "11119335308536847369"
     },
     "user_tz": -540
    },
    "id": "jfQUnO-Hp1qF"
   },
   "outputs": [],
   "source": [
    "training_dataset_dir = \"/content/drive/MyDrive/richhf/train\" if os.path.exists(\"/content/drive/MyDrive/richhf/train\") else \"./train\"\n",
    "train_data_csv = \"/content/drive/MyDrive/richhf/RichHF_18K.csv\" if os.path.exists(\"/content/drive/MyDrive/richhf\") else \"./richhf/RichHF_18K.csv\"\n",
    "model_output_name =  \"/content/drive/MyDrive/meta_iqa_model.pth\" if os.path.exists(\"/content/drive/MyDrive\") else \"./meta_iqa_model.pth\"\n"
   ]
  },
  {
   "cell_type": "code",
   "execution_count": null,
   "metadata": {},
   "outputs": [],
   "source": [
    "class MetaIQAFeatureExtractor(nn.Module):\n",
    "    def __init__(self, input_size=3*512*512, hidden_size=1024, output_size=512):\n",
    "        super(MetaIQAFeatureExtractor, self).__init__()\n",
    "        self.model = nn.Sequential(\n",
    "        nn.Linear(input_size, hidden_size),\n",
    "        nn.LeakyReLU(),  \n",
    "        nn.Dropout(0.3),\n",
    "        nn.Linear(hidden_size, output_size),\n",
    "        nn.LeakyReLU(),\n",
    "        nn.Linear(output_size, 1)\n",
    "        )\n",
    "\n",
    "    def forward(self, x):\n",
    "        x = x.view(x.size(0), -1)  \n",
    "        return self.model(x)\n",
    "\n",
    "\n"
   ]
  },
  {
   "cell_type": "code",
   "execution_count": 20,
   "metadata": {},
   "outputs": [],
   "source": [
    "class IQADataset(Dataset):\n",
    "    def __init__(self, csv_file, root_dir, transform=None):\n",
    "        self.data_frame = pd.read_csv(csv_file)\n",
    "        self.root_dir = root_dir\n",
    "        self.transform = transform\n",
    "\n",
    "    def __len__(self):\n",
    "        return len(self.data_frame)\n",
    "\n",
    "    def __getitem__(self, idx):\n",
    "        # Get image name and quality score from the dataframe\n",
    "        img_name = self.data_frame.iloc[idx, 0]\n",
    "        quality_score = self.data_frame.iloc[idx, 5]\n",
    "\n",
    "        img_path = f\"{self.root_dir}/{img_name}.png\"\n",
    "\n",
    "        # Check if the image exists only when loading it\n",
    "        if not os.path.exists(img_path):\n",
    "            raise FileNotFoundError(f\"Image {img_path} not found\")\n",
    "\n",
    "        # Load the image lazily\n",
    "        image = Image.open(img_path).convert('RGB')\n",
    "\n",
    "        # Apply transform if necessary\n",
    "        if self.transform:\n",
    "            image = self.transform(image)\n",
    "\n",
    "        return image, torch.tensor(quality_score, dtype=torch.float)\n"
   ]
  },
  {
   "cell_type": "code",
   "execution_count": 21,
   "metadata": {
    "id": "V7oFrs0dpmcE"
   },
   "outputs": [],
   "source": [
    "def train_meta_iqa(model, train_loader, optimizer, criterion, device, epochs=10):\n",
    "    model.train()\n",
    "    for epoch in range(epochs):\n",
    "        running_loss = 0.0\n",
    "        for images, quality_scores in train_loader:\n",
    "            images, quality_scores = images.to(device), quality_scores.to(device)\n",
    "\n",
    "            optimizer.zero_grad()\n",
    "            outputs = model(images)\n",
    "            loss = criterion(outputs, quality_scores.unsqueeze(1))  # Ensure dimensions match\n",
    "            loss.backward()\n",
    "            optimizer.step()\n",
    "\n",
    "            running_loss += loss.item() * images.size(0)\n",
    "\n",
    "        epoch_loss = running_loss / len(train_loader.dataset)\n",
    "        print(f\"Epoch [{epoch+1}/{epochs}], Loss: {epoch_loss:.4f}\")\n"
   ]
  },
  {
   "cell_type": "code",
   "execution_count": 22,
   "metadata": {},
   "outputs": [
    {
     "name": "stdout",
     "output_type": "stream",
     "text": [
      "Epoch [1/10], Loss: 4.5805\n",
      "Epoch [2/10], Loss: 0.0388\n",
      "Epoch [3/10], Loss: 0.0335\n",
      "Epoch [4/10], Loss: 0.0325\n",
      "Epoch [5/10], Loss: 0.0402\n",
      "Epoch [6/10], Loss: 0.0304\n",
      "Epoch [7/10], Loss: 0.0308\n",
      "Epoch [8/10], Loss: 0.0314\n",
      "Epoch [9/10], Loss: 0.6506\n",
      "Epoch [10/10], Loss: 0.1571\n",
      "Training complete and model saved!\n"
     ]
    }
   ],
   "source": [
    "if __name__ == \"__main__\":\n",
    "    # Hyperparameters and configuration\n",
    "    input_size = 3*512*512\n",
    "    hidden_size = 1024\n",
    "    output_size = 512\n",
    "    epochs = 10\n",
    "    batch_size = 32\n",
    "    learning_rate = 1e-4\n",
    "\n",
    "    # Prepare the dataset and dataloader\n",
    "    transform = transforms.Compose([transforms.Resize((512, 512)), transforms.ToTensor()])\n",
    "\n",
    "    dataset = IQADataset(csv_file=train_data_csv, root_dir=training_dataset_dir, transform=transform)\n",
    "    train_loader = DataLoader(dataset, batch_size=batch_size, shuffle=True)\n",
    "\n",
    "    # Initialize the model, optimizer, and loss function\n",
    "    device = torch.device(\"cuda\" if torch.cuda.is_available() else \"cpu\")\n",
    "    model = MetaIQAFeatureExtractor(input_size=input_size, hidden_size=hidden_size, output_size=output_size).to(device)\n",
    "    optimizer = Adam(model.parameters(), lr=learning_rate)\n",
    "    criterion = nn.MSELoss()  # Mean Squared Error Loss\n",
    "\n",
    "    # Train the model\n",
    "    train_meta_iqa(model, train_loader, optimizer, criterion, device, epochs)\n",
    "\n",
    "    # Save the trained model\n",
    "    \n",
    "    torch.save(model.state_dict(), model_output_name)\n",
    "    print(\"Training complete and model saved!\")"
   ]
  }
 ],
 "metadata": {
  "colab": {
   "authorship_tag": "ABX9TyOCYtOauQA7j9QbzNzCKRql",
   "provenance": []
  },
  "kernelspec": {
   "display_name": "diffusion",
   "language": "python",
   "name": "python3"
  },
  "language_info": {
   "codemirror_mode": {
    "name": "ipython",
    "version": 3
   },
   "file_extension": ".py",
   "mimetype": "text/x-python",
   "name": "python",
   "nbconvert_exporter": "python",
   "pygments_lexer": "ipython3",
   "version": "3.11.9"
  }
 },
 "nbformat": 4,
 "nbformat_minor": 0
}
