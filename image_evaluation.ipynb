{
 "cells": [
  {
   "cell_type": "code",
   "execution_count": 3,
   "metadata": {
    "id": "bpEJqt6GwrwP"
   },
   "outputs": [],
   "source": [
    "import torch\n",
    "from torch import nn\n",
    "from torch.optim import Adam\n",
    "from torch.utils.data import DataLoader, Dataset\n",
    "import pandas as pd\n",
    "from torchvision import transforms\n",
    "from PIL import Image\n",
    "import os\n",
    "import matplotlib.pyplot as plt\n",
    "import glob\n"
   ]
  },
  {
   "cell_type": "code",
   "execution_count": 4,
   "metadata": {
    "colab": {
     "base_uri": "https://localhost:8080/"
    },
    "id": "nAKXNrTSxJwP",
    "outputId": "1ad10a92-978a-4a60-b724-65b0a6ebff39"
   },
   "outputs": [
    {
     "name": "stdout",
     "output_type": "stream",
     "text": [
      "Drive already mounted at /content/drive; to attempt to forcibly remount, call drive.mount(\"/content/drive\", force_remount=True).\n"
     ]
    }
   ],
   "source": [
    "from google.colab import drive\n",
    "drive.mount('/content/drive')"
   ]
  },
  {
   "cell_type": "code",
   "execution_count": 17,
   "metadata": {
    "id": "QfCMO0mow36Z"
   },
   "outputs": [],
   "source": [
    "image_dir = \"/content/drive/MyDrive/image/xl-base-1.0\" if os.path.exists(\"/content/drive/MyDrive\") else \"/home/ccl/Code/s1290114/IQA/AI_IQA/image/sd15_lcm\"\n",
    "dir_name = os.path.basename(image_dir)\n",
    "model_name = \"/content/drive/MyDrive/meta_iqa_model.pth\" if os.path.exists(\"/content/drive/MyDrive\") else \"./meta_iqa_model.pth\"\n",
    "output_csv = f\"/content/drive/MyDrive/csv/{dir_name}.csv\" if os.path.exists(\"/content/drive/MyDrive\") else f\"./csv/{dir_name}.csv\""
   ]
  },
  {
   "cell_type": "code",
   "execution_count": 6,
   "metadata": {
    "id": "GaDOkmzJw6Vx"
   },
   "outputs": [],
   "source": [
    "class MetaIQAPredictor(nn.Module):\n",
    "    def __init__(self, input_size=3*512*512, hidden_size=1024, output_size=512):\n",
    "        super(MetaIQAPredictor, self).__init__()\n",
    "        self.model = nn.Sequential(\n",
    "          nn.Linear(input_size, hidden_size),\n",
    "          nn.LeakyReLU(),  # LeakyReLUで勾配消失問題を軽減\n",
    "          nn.Dropout(0.3),\n",
    "          nn.Linear(hidden_size, output_size),\n",
    "          nn.LeakyReLU(),\n",
    "          nn.Linear(output_size, 1)\n",
    "        )\n",
    "\n",
    "    def forward(self, x):\n",
    "        x = x.view(x.size(0), -1)  # 画像をフラット化\n",
    "        return self.model(x)\n"
   ]
  },
  {
   "cell_type": "code",
   "execution_count": 7,
   "metadata": {
    "id": "IISguGZ0w-QT"
   },
   "outputs": [],
   "source": [
    "def evaluate_images_and_save_csv(model, dataset, device, output_csv):\n",
    "    model.eval()\n",
    "    results = []\n",
    "    with torch.no_grad():\n",
    "        for img, img_name in dataset:\n",
    "            img = img.unsqueeze(0).to(device)  # バッチ次元を追加してデバイスに移動\n",
    "            predicted_score = model(img).item()  # 推定されたスコアを取得\n",
    "\n",
    "            # 推定結果を表示\n",
    "            print(f\"Image: {img_name}, Predicted Score: {predicted_score}\")\n",
    "\n",
    "            # 結果をリストに追加\n",
    "            results.append({\n",
    "                \"image_name\": img_name,\n",
    "                \"predicted_score\": predicted_score\n",
    "            })\n",
    "\n",
    "    result_df = pd.DataFrame(results)\n",
    "    result_df.to_csv(output_csv, index=False)\n",
    "    print(f\"Results saved to {output_csv}\")\n"
   ]
  },
  {
   "cell_type": "code",
   "execution_count": 8,
   "metadata": {
    "id": "VGQ-lYDV1Nt5"
   },
   "outputs": [],
   "source": [
    "class ImageDataset(torch.utils.data.Dataset):\n",
    "    def __init__(self, image_dir, transform=None):\n",
    "        self.image_dir = image_dir\n",
    "        self.image_paths = [os.path.join(image_dir, f) for f in os.listdir(image_dir) if f.endswith(('png', 'jpg', 'jpeg'))]\n",
    "        self.transform = transform\n",
    "\n",
    "    def __len__(self):\n",
    "        return len(self.image_paths)\n",
    "\n",
    "    def __getitem__(self, idx):\n",
    "        img_path = self.image_paths[idx]\n",
    "        img = Image.open(img_path).convert(\"RGB\")  # 画像をRGBとして読み込み\n",
    "        img_name = os.path.basename(img_path)  # 画像ファイル名を取得\n",
    "\n",
    "        if self.transform:\n",
    "            img = self.transform(img)  # 必要に応じて画像を変換\n",
    "\n",
    "        return img, img_name\n"
   ]
  },
  {
   "cell_type": "code",
   "execution_count": 9,
   "metadata": {
    "colab": {
     "base_uri": "https://localhost:8080/"
    },
    "id": "LTymi0VgxA4C",
    "outputId": "94aa4897-0269-4a37-a92f-3643632f5f31"
   },
   "outputs": [
    {
     "name": "stderr",
     "output_type": "stream",
     "text": [
      "<ipython-input-9-dffc6ec1e556>:10: FutureWarning: You are using `torch.load` with `weights_only=False` (the current default value), which uses the default pickle module implicitly. It is possible to construct malicious pickle data which will execute arbitrary code during unpickling (See https://github.com/pytorch/pytorch/blob/main/SECURITY.md#untrusted-models for more details). In a future release, the default value for `weights_only` will be flipped to `True`. This limits the functions that could be executed during unpickling. Arbitrary objects will no longer be allowed to be loaded via this mode unless they are explicitly allowlisted by the user via `torch.serialization.add_safe_globals`. We recommend you start setting `weights_only=True` for any use case where you don't have full control of the loaded file. Please open an issue on GitHub for any issues related to this experimental feature.\n",
      "  model.load_state_dict(torch.load(model_name, map_location=device))\n"
     ]
    }
   ],
   "source": [
    "transform = transforms.Compose([\n",
    "        transforms.Resize((512, 512)),  # サイズを正しくリサイズ\n",
    "        transforms.ToTensor(),  # テンソルに変換\n",
    "])\n",
    "input_size = 3*512*512\n",
    "hidden_size = 1024\n",
    "output_size = 512\n",
    "device = torch.device(\"cuda\" if torch.cuda.is_available() else \"cpu\")\n",
    "model = MetaIQAPredictor(input_size=input_size, hidden_size=hidden_size, output_size=output_size).to(device)\n",
    "model.load_state_dict(torch.load(model_name, map_location=device))\n",
    "dataset =  ImageDataset(image_dir, transform=transform)"
   ]
  },
  {
   "cell_type": "code",
   "execution_count": 18,
   "metadata": {
    "colab": {
     "base_uri": "https://localhost:8080/"
    },
    "id": "QSqTWnCVxC9X",
    "outputId": "b73ecc5b-bf81-4017-89fd-fb8cab1adbb7"
   },
   "outputs": [
    {
     "name": "stdout",
     "output_type": "stream",
     "text": [
      "Image: 010.png, Predicted Score: 0.51494961977005\n",
      "Image: 009.png, Predicted Score: 0.43974989652633667\n",
      "Image: 006.png, Predicted Score: 0.5474330186843872\n",
      "Image: 016.png, Predicted Score: 0.4518274664878845\n",
      "Image: 001.png, Predicted Score: 0.5629040598869324\n",
      "Image: 019.png, Predicted Score: 0.46618688106536865\n",
      "Image: 018.png, Predicted Score: 0.3882659673690796\n",
      "Image: 015.png, Predicted Score: 0.5263329148292542\n",
      "Image: 011.png, Predicted Score: 0.464611291885376\n",
      "Image: 004.png, Predicted Score: 0.4991381764411926\n",
      "Image: 012.png, Predicted Score: 0.4767974615097046\n",
      "Image: 005.png, Predicted Score: 0.6255430579185486\n",
      "Image: 020.png, Predicted Score: 0.4201122522354126\n",
      "Image: 013.png, Predicted Score: 0.4458591341972351\n",
      "Image: 003.png, Predicted Score: 0.40594106912612915\n",
      "Image: 007.png, Predicted Score: 0.6400365233421326\n",
      "Image: 017.png, Predicted Score: 0.5570768713951111\n",
      "Image: 014.png, Predicted Score: 0.6228225827217102\n",
      "Image: 008.png, Predicted Score: 0.450619101524353\n",
      "Image: 002.png, Predicted Score: 0.42232221364974976\n",
      "Results saved to /content/drive/MyDrive/csv/xl-base-1.0.csv\n"
     ]
    }
   ],
   "source": [
    "evaluate_images_and_save_csv(model, dataset, device, output_csv)"
   ]
  }
 ],
 "metadata": {
  "accelerator": "GPU",
  "colab": {
   "gpuType": "T4",
   "provenance": []
  },
  "kernelspec": {
   "display_name": "Python 3",
   "name": "python3"
  },
  "language_info": {
   "name": "python"
  }
 },
 "nbformat": 4,
 "nbformat_minor": 0
}
